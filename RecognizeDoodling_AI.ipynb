{
  "nbformat": 4,
  "nbformat_minor": 0,
  "metadata": {
    "colab": {
      "name": "RecognizeDoodling_AI.ipynb",
      "provenance": [],
      "machine_shape": "hm",
      "mount_file_id": "1OPtzzmdQaD0a4Q2_54nVaOBh2n74s8jv",
      "authorship_tag": "ABX9TyOHyFAzUWEck5ontcpZg2yn"
    },
    "kernelspec": {
      "name": "python3",
      "display_name": "Python 3"
    },
    "accelerator": "TPU"
  },
  "cells": [
    {
      "cell_type": "markdown",
      "metadata": {
        "id": "FcKhT8X2WmTX",
        "colab_type": "text"
      },
      "source": [
        "#### Importing all the necessary libraries\n",
        "\n"
      ]
    },
    {
      "cell_type": "code",
      "metadata": {
        "id": "RY-WlZJ0Wjep",
        "colab_type": "code",
        "colab": {
          "base_uri": "https://localhost:8080/",
          "height": 34
        },
        "outputId": "9f8d12ea-4e8a-4507-d699-347d626a2e5f"
      },
      "source": [
        "import numpy as np\n",
        "import os\n",
        "import pickle\n",
        "\n",
        "from sklearn.model_selection import train_test_split\n",
        "from sklearn.utils import shuffle\n",
        "from keras.layers import Dense,Flatten, Conv2D\n",
        "from keras.layers import MaxPooling2D, Dropout\n",
        "from keras.utils import np_utils, print_summary\n",
        "import tensorflow as tf\n",
        "from keras.models import Sequential\n",
        "from keras.callbacks import ModelCheckpoint\n",
        "from keras.callbacks import TensorBoard\n",
        "\n",
        "from sklearn.svm import SVC\n",
        "from sklearn.metrics import accuracy_score\n",
        "\n",
        "from sklearn.linear_model import LogisticRegression\n",
        "\n",
        "import pandas as pd\n",
        "from sklearn import metrics\n",
        "import seaborn as sns\n",
        "import matplotlib.pyplot as plt"
      ],
      "execution_count": 1,
      "outputs": [
        {
          "output_type": "stream",
          "text": [
            "Using TensorFlow backend.\n"
          ],
          "name": "stderr"
        }
      ]
    },
    {
      "cell_type": "markdown",
      "metadata": {
        "id": "bIt24S--WwMI",
        "colab_type": "text"
      },
      "source": [
        "####  Listing all files and directories present in the specified directory"
      ]
    },
    {
      "cell_type": "code",
      "metadata": {
        "id": "Pp0JmQckXHgx",
        "colab_type": "code",
        "colab": {}
      },
      "source": [
        "dataset = os.listdir(\"/content/drive/My Drive/Artificial Intelligence/Data/\")"
      ],
      "execution_count": 0,
      "outputs": []
    },
    {
      "cell_type": "code",
      "metadata": {
        "id": "WbfW34qXXKRe",
        "colab_type": "code",
        "colab": {
          "base_uri": "https://localhost:8080/",
          "height": 272
        },
        "outputId": "81848716-1c06-47f3-bd12-ba70a747e87e"
      },
      "source": [
        "dataset"
      ],
      "execution_count": 3,
      "outputs": [
        {
          "output_type": "execute_result",
          "data": {
            "text/plain": [
              "['full_numpy_bitmap_apple.npy',\n",
              " 'full_numpy_bitmap_bowtie.npy',\n",
              " 'full_numpy_bitmap_candle.npy',\n",
              " 'full_numpy_bitmap_door.npy',\n",
              " 'full_numpy_bitmap_envelope.npy',\n",
              " 'full_numpy_bitmap_fish.npy',\n",
              " 'full_numpy_bitmap_guitar.npy',\n",
              " 'full_numpy_bitmap_ice cream.npy',\n",
              " 'full_numpy_bitmap_lightning.npy',\n",
              " 'full_numpy_bitmap_moon.npy',\n",
              " 'full_numpy_bitmap_mountain.npy',\n",
              " 'full_numpy_bitmap_star.npy',\n",
              " 'full_numpy_bitmap_tent.npy',\n",
              " 'full_numpy_bitmap_toothbrush.npy',\n",
              " 'full_numpy_bitmap_wristwatch.npy']"
            ]
          },
          "metadata": {
            "tags": []
          },
          "execution_count": 3
        }
      ]
    },
    {
      "cell_type": "markdown",
      "metadata": {
        "id": "DuPGb_InX57z",
        "colab_type": "text"
      },
      "source": [
        "#### Creating an empty list to store the data"
      ]
    },
    {
      "cell_type": "code",
      "metadata": {
        "id": "PwO658t-XzXS",
        "colab_type": "code",
        "colab": {}
      },
      "source": [
        "data=[]\n",
        "feature = []\n",
        "x = []\n",
        "label = []"
      ],
      "execution_count": 0,
      "outputs": []
    },
    {
      "cell_type": "code",
      "metadata": {
        "id": "VHcDYmAuYHnK",
        "colab_type": "code",
        "colab": {}
      },
      "source": [
        "def load_data():\n",
        "    count = 0\n",
        "    for file in dataset:\n",
        "        file = \"/content/drive/My Drive/Artificial Intelligence/Data/\" + file\n",
        "        # Load arrays from .npy files\n",
        "        data = np.load(file)\n",
        "        # Casting the int numpy.ndarray to float numpy.ndarray\n",
        "        # Dividing it by 255 helps to get the RGB color\n",
        "        data = data.astype('float32') / 255.\n",
        "        # Extracting top 10000 rows and all columns\n",
        "        data = data[0:10000, :]\n",
        "        # Storing the extracted data from each file as feature\n",
        "        feature.append(data)\n",
        "        x = [count for _ in range(10000)]\n",
        "        count += 1\n",
        "        x = np.array(x).astype('float32')\n",
        "        # Reshaping the list to a single row \n",
        "        x = x.reshape(x.shape[0], 1)\n",
        "        # Loading teh created data as label\n",
        "        label.append(x)\n",
        "\n",
        "    return feature, label"
      ],
      "execution_count": 0,
      "outputs": []
    },
    {
      "cell_type": "markdown",
      "metadata": {
        "id": "9kkZtdQ6h74I",
        "colab_type": "text"
      },
      "source": [
        "Storing the loaded feature and label of each file as features and labels"
      ]
    },
    {
      "cell_type": "code",
      "metadata": {
        "id": "Bxq9b1tWh4V8",
        "colab_type": "code",
        "colab": {}
      },
      "source": [
        "features, labels = load_data()"
      ],
      "execution_count": 0,
      "outputs": []
    },
    {
      "cell_type": "markdown",
      "metadata": {
        "id": "BIpVZ5xejW2Y",
        "colab_type": "text"
      },
      "source": [
        "Casting the features and labels to float"
      ]
    },
    {
      "cell_type": "code",
      "metadata": {
        "id": "t68hJ_EDjAno",
        "colab_type": "code",
        "colab": {}
      },
      "source": [
        "features = np.array(features).astype('float32')\n",
        "labels = np.array(labels).astype('float32')"
      ],
      "execution_count": 0,
      "outputs": []
    },
    {
      "cell_type": "markdown",
      "metadata": {
        "id": "QMy_a8mhj1q0",
        "colab_type": "text"
      },
      "source": [
        "#### Reshaping labels and features"
      ]
    },
    {
      "cell_type": "code",
      "metadata": {
        "id": "zgNnpEGDjrIA",
        "colab_type": "code",
        "colab": {}
      },
      "source": [
        "features=features.reshape(features.shape[0]*features.shape[1],features.shape[2])\n",
        "labels=labels.reshape(labels.shape[0]*labels.shape[1],labels.shape[2])"
      ],
      "execution_count": 0,
      "outputs": []
    },
    {
      "cell_type": "code",
      "metadata": {
        "id": "kAnmS-JLlBR8",
        "colab_type": "code",
        "colab": {}
      },
      "source": [
        "features.shape"
      ],
      "execution_count": 0,
      "outputs": []
    },
    {
      "cell_type": "code",
      "metadata": {
        "id": "DIS9KUEDlDiX",
        "colab_type": "code",
        "colab": {}
      },
      "source": [
        "labels.shape"
      ],
      "execution_count": 0,
      "outputs": []
    },
    {
      "cell_type": "markdown",
      "metadata": {
        "id": "QjQHXA1-kdfh",
        "colab_type": "text"
      },
      "source": [
        "#### To store the python objects as  byte stream"
      ]
    },
    {
      "cell_type": "code",
      "metadata": {
        "id": "-3DU3a2HBbgo",
        "colab_type": "code",
        "colab": {}
      },
      "source": [
        "with open(\"features\", \"wb\") as f:\n",
        "    pickle.dump(features, f, protocol=4)\n",
        "with open(\"labels\", \"wb\") as f:\n",
        "    pickle.dump(labels, f, protocol=4)"
      ],
      "execution_count": 0,
      "outputs": []
    },
    {
      "cell_type": "code",
      "metadata": {
        "id": "p-oqaFM7EIoG",
        "colab_type": "code",
        "colab": {}
      },
      "source": [
        "def keras_model(image_x, image_y):\n",
        "    num_of_classes = 15\n",
        "    model = Sequential()\n",
        "    model.add(Conv2D(32, (5, 5), input_shape=(image_x,image_y,1), activation='relu'))\n",
        "    model.add(MaxPooling2D(pool_size=(2, 2), strides=(2, 2), padding='same'))\n",
        "    model.add(Conv2D(64, (5, 5), activation='relu'))\n",
        "    model.add(MaxPooling2D(pool_size=(2, 2), strides=(2, 2), padding='same'))\n",
        "\n",
        "    model.add(Flatten())\n",
        "    model.add(Dense(512, activation='relu'))\n",
        "    model.add(Dropout(0.6))\n",
        "    model.add(Dense(128, activation='relu'))\n",
        "    model.add(Dropout(0.6))\n",
        "    model.add(Dense(num_of_classes, activation='softmax'))\n",
        "\n",
        "    model.compile(loss='categorical_crossentropy', optimizer='adam', metrics=['accuracy'])\n",
        "    filepath = \"QuickDraw.h5\"\n",
        "    checkpoint = ModelCheckpoint(filepath, monitor='val_acc', verbose=1, save_best_only=True, mode='max')\n",
        "    callbacks_list = [checkpoint]\n",
        "\n",
        "    return model, callbacks_list"
      ],
      "execution_count": 0,
      "outputs": []
    },
    {
      "cell_type": "code",
      "metadata": {
        "id": "xvseJK4Bli9r",
        "colab_type": "code",
        "colab": {}
      },
      "source": [
        "def loadFromPickle():\n",
        "    with open(\"features\", \"rb\") as f:\n",
        "        features = np.array(pickle.load(f))\n",
        "    with open(\"labels\", \"rb\") as f:\n",
        "        labels = np.array(pickle.load(f))\n",
        "\n",
        "    return features, labels"
      ],
      "execution_count": 0,
      "outputs": []
    },
    {
      "cell_type": "code",
      "metadata": {
        "id": "bR-wkJSyloj6",
        "colab_type": "code",
        "colab": {}
      },
      "source": [
        "def augmentData(features, labels):\n",
        "    features = np.append(features, features[:, :, ::-1], axis=0)\n",
        "    labels = np.append(labels, -labels, axis=0)\n",
        "    return features, labels"
      ],
      "execution_count": 0,
      "outputs": []
    },
    {
      "cell_type": "code",
      "metadata": {
        "id": "uMaYhy7-lrV2",
        "colab_type": "code",
        "colab": {}
      },
      "source": [
        "def prepress_labels(labels):\n",
        "    labels = np_utils.to_categorical(labels)\n",
        "    return labels"
      ],
      "execution_count": 0,
      "outputs": []
    },
    {
      "cell_type": "code",
      "metadata": {
        "id": "dEdAYNmToJfD",
        "colab_type": "code",
        "colab": {}
      },
      "source": [
        "features, labels = loadFromPickle()"
      ],
      "execution_count": 0,
      "outputs": []
    },
    {
      "cell_type": "code",
      "metadata": {
        "id": "5pyIwlwPoSRX",
        "colab_type": "code",
        "colab": {}
      },
      "source": [
        "features, labels = shuffle(features, labels)"
      ],
      "execution_count": 0,
      "outputs": []
    },
    {
      "cell_type": "code",
      "metadata": {
        "id": "DEV2kqproYBY",
        "colab_type": "code",
        "colab": {}
      },
      "source": [
        "labels=prepress_labels(labels)"
      ],
      "execution_count": 0,
      "outputs": []
    },
    {
      "cell_type": "code",
      "metadata": {
        "id": "uNDVA0-5lwqc",
        "colab_type": "code",
        "colab": {}
      },
      "source": [
        "train_x, test_x, train_y, test_y = train_test_split(features, labels, random_state=0,test_size=0.1)\n",
        "train_x = train_x.reshape(train_x.shape[0], 28, 28, 1)\n",
        "test_x = test_x.reshape(test_x.shape[0], 28, 28, 1)"
      ],
      "execution_count": 0,
      "outputs": []
    },
    {
      "cell_type": "code",
      "metadata": {
        "id": "gp4dIVs_l01k",
        "colab_type": "code",
        "colab": {}
      },
      "source": [
        "model, callbacks_list = keras_model(28,28)\n",
        "print_summary(model)"
      ],
      "execution_count": 0,
      "outputs": []
    },
    {
      "cell_type": "code",
      "metadata": {
        "id": "2ygBEz9Vooaz",
        "colab_type": "code",
        "colab": {}
      },
      "source": [
        "model.fit(train_x, train_y, validation_data=(test_x, test_y), epochs=3, batch_size=64,\n",
        "callbacks=[TensorBoard(log_dir=\"QuickDraw\")])\n",
        "model.save('QuickDraw.h5')"
      ],
      "execution_count": 0,
      "outputs": []
    },
    {
      "cell_type": "code",
      "metadata": {
        "id": "reyqFdLznpia",
        "colab_type": "code",
        "colab": {}
      },
      "source": [
        "score = model.evaluate(test_x, test_y, verbose=0)"
      ],
      "execution_count": 0,
      "outputs": []
    },
    {
      "cell_type": "code",
      "metadata": {
        "id": "tLmwjd0Do96T",
        "colab_type": "code",
        "colab": {}
      },
      "source": [
        "score"
      ],
      "execution_count": 0,
      "outputs": []
    },
    {
      "cell_type": "markdown",
      "metadata": {
        "id": "gb2hGcs4pJbs",
        "colab_type": "text"
      },
      "source": [
        "#### SVM Implementation"
      ]
    },
    {
      "cell_type": "code",
      "metadata": {
        "id": "XrFSXNBevQPI",
        "colab_type": "code",
        "colab": {}
      },
      "source": [
        "data=[]\n",
        "feature = []\n",
        "x = []\n",
        "label = []\n",
        "def load_data():\n",
        "    count = 0\n",
        "    for file in dataset:\n",
        "        file = \"/content/drive/My Drive/Artificial Intelligence/Data/\" + file\n",
        "        # Load arrays from .npy files\n",
        "        data = np.load(file)\n",
        "        # Casting the int numpy.ndarray to float numpy.ndarray\n",
        "        # Dividing it by 255 helps to get the RGB color\n",
        "        data = data.astype('float32') / 255.\n",
        "        # Extracting top 10000 rows and all columns\n",
        "        data = data[0:10000, :]\n",
        "        # Storing the extracted data from each file as feature\n",
        "        feature.append(data)\n",
        "        x = [count for _ in range(10000)]\n",
        "        count += 1\n",
        "        x = np.array(x).astype('float32')\n",
        "        # Reshaping the list to a single row \n",
        "        x = x.reshape(x.shape[0], 1)\n",
        "        # Loading the created data as label\n",
        "        label.append(x)\n",
        "\n",
        "    return feature, label"
      ],
      "execution_count": 0,
      "outputs": []
    },
    {
      "cell_type": "code",
      "metadata": {
        "id": "Asf3XH9BvYd_",
        "colab_type": "code",
        "colab": {}
      },
      "source": [
        "features, labels = load_data()"
      ],
      "execution_count": 0,
      "outputs": []
    },
    {
      "cell_type": "code",
      "metadata": {
        "id": "EXX5svNIvhqK",
        "colab_type": "code",
        "colab": {}
      },
      "source": [
        "features = np.array(features).astype('float32')\n",
        "labels = np.array(labels).astype('float32')"
      ],
      "execution_count": 0,
      "outputs": []
    },
    {
      "cell_type": "code",
      "metadata": {
        "id": "48OXDSyDvmDj",
        "colab_type": "code",
        "colab": {}
      },
      "source": [
        "features=features.reshape(features.shape[0]*features.shape[1],features.shape[2])\n",
        "labels=labels.reshape(labels.shape[0]*labels.shape[1],labels.shape[2])"
      ],
      "execution_count": 0,
      "outputs": []
    },
    {
      "cell_type": "code",
      "metadata": {
        "id": "bmIKUiUXpJCm",
        "colab_type": "code",
        "colab": {}
      },
      "source": [
        "x_train, x_test, y_train, y_test = train_test_split(features, labels, random_state=0,test_size=0.1)"
      ],
      "execution_count": 0,
      "outputs": []
    },
    {
      "cell_type": "code",
      "metadata": {
        "id": "SAfYEbTqotZ1",
        "colab_type": "code",
        "colab": {}
      },
      "source": [
        "clf = SVC(kernel='rbf')"
      ],
      "execution_count": 0,
      "outputs": []
    },
    {
      "cell_type": "code",
      "metadata": {
        "id": "jQLyKkaIpffw",
        "colab_type": "code",
        "colab": {}
      },
      "source": [
        "clf.fit(x_train,y_train)"
      ],
      "execution_count": 0,
      "outputs": []
    },
    {
      "cell_type": "code",
      "metadata": {
        "id": "V70FZSHpsjq9",
        "colab_type": "code",
        "colab": {}
      },
      "source": [
        "y_pred = clf.predict(x_test)\n",
        "print(accuracy_score(y_test,y_pred))"
      ],
      "execution_count": 0,
      "outputs": []
    },
    {
      "cell_type": "markdown",
      "metadata": {
        "id": "neo8RaQJ67xW",
        "colab_type": "text"
      },
      "source": [
        "### Logistic Regression Implementation"
      ]
    },
    {
      "cell_type": "code",
      "metadata": {
        "id": "EX-X42z-6-e2",
        "colab_type": "code",
        "colab": {}
      },
      "source": [
        "data=[]\n",
        "feature = []\n",
        "x = []\n",
        "label = []\n",
        "def load_data():\n",
        "    count = 0\n",
        "    for file in dataset:\n",
        "        file = \"/content/drive/My Drive/Artificial Intelligence/Data/\" + file\n",
        "        # Load arrays from .npy files\n",
        "        data = np.load(file)\n",
        "        # Casting the int numpy.ndarray to float numpy.ndarray\n",
        "        # Dividing it by 255 helps to get the RGB color\n",
        "        data = data.astype('float32') / 255.\n",
        "        # Extracting top 10000 rows and all columns\n",
        "        data = data[0:10000, :]\n",
        "        # Storing the extracted data from each file as feature\n",
        "        feature.append(data)\n",
        "        x = [count for _ in range(10000)]\n",
        "        count += 1\n",
        "        x = np.array(x).astype('float32')\n",
        "        # Reshaping the list to a single row \n",
        "        x = x.reshape(x.shape[0], 1)\n",
        "        # Loading teh created data as label\n",
        "        label.append(x)\n",
        "\n",
        "    return feature, label"
      ],
      "execution_count": 0,
      "outputs": []
    },
    {
      "cell_type": "code",
      "metadata": {
        "id": "V4trjvcRmvIJ",
        "colab_type": "code",
        "colab": {}
      },
      "source": [
        "features, labels = load_data()"
      ],
      "execution_count": 0,
      "outputs": []
    },
    {
      "cell_type": "code",
      "metadata": {
        "id": "hsqgsFb27Dwj",
        "colab_type": "code",
        "colab": {}
      },
      "source": [
        "features = np.array(features).astype('float32')\n",
        "labels = np.array(labels).astype('float32')"
      ],
      "execution_count": 0,
      "outputs": []
    },
    {
      "cell_type": "code",
      "metadata": {
        "id": "gDHTjfvKXlca",
        "colab_type": "code",
        "outputId": "611314c2-6cf3-49a1-ead7-271bffdd49f1",
        "colab": {
          "base_uri": "https://localhost:8080/",
          "height": 34
        }
      },
      "source": [
        "features.shape"
      ],
      "execution_count": 7,
      "outputs": [
        {
          "output_type": "execute_result",
          "data": {
            "text/plain": [
              "(15, 10000, 784)"
            ]
          },
          "metadata": {
            "tags": []
          },
          "execution_count": 7
        }
      ]
    },
    {
      "cell_type": "code",
      "metadata": {
        "id": "ZcWReuYjXny2",
        "colab_type": "code",
        "outputId": "8dd8287d-e105-414d-d863-688d32835b9a",
        "colab": {
          "base_uri": "https://localhost:8080/",
          "height": 34
        }
      },
      "source": [
        "labels.shape"
      ],
      "execution_count": 8,
      "outputs": [
        {
          "output_type": "execute_result",
          "data": {
            "text/plain": [
              "(15, 10000, 1)"
            ]
          },
          "metadata": {
            "tags": []
          },
          "execution_count": 8
        }
      ]
    },
    {
      "cell_type": "code",
      "metadata": {
        "id": "1oLV8qhZ7MU9",
        "colab_type": "code",
        "colab": {}
      },
      "source": [
        "features=features.reshape(features.shape[0]*features.shape[1],features.shape[2])\n",
        "labels=labels.reshape(labels.shape[0]*labels.shape[1],labels.shape[2])"
      ],
      "execution_count": 0,
      "outputs": []
    },
    {
      "cell_type": "code",
      "metadata": {
        "id": "D7QggJWAXe8T",
        "colab_type": "code",
        "outputId": "4ba39156-51ca-490d-c4af-9d1b1c168459",
        "colab": {
          "base_uri": "https://localhost:8080/",
          "height": 34
        }
      },
      "source": [
        "features.shape"
      ],
      "execution_count": 10,
      "outputs": [
        {
          "output_type": "execute_result",
          "data": {
            "text/plain": [
              "(150000, 784)"
            ]
          },
          "metadata": {
            "tags": []
          },
          "execution_count": 10
        }
      ]
    },
    {
      "cell_type": "code",
      "metadata": {
        "id": "syysvcYCXiDe",
        "colab_type": "code",
        "outputId": "1ce88c88-31d3-4cc6-88e5-7849b2827284",
        "colab": {
          "base_uri": "https://localhost:8080/",
          "height": 34
        }
      },
      "source": [
        "labels.shape"
      ],
      "execution_count": 11,
      "outputs": [
        {
          "output_type": "execute_result",
          "data": {
            "text/plain": [
              "(150000, 1)"
            ]
          },
          "metadata": {
            "tags": []
          },
          "execution_count": 11
        }
      ]
    },
    {
      "cell_type": "code",
      "metadata": {
        "id": "BDSJa_UR7Oo9",
        "colab_type": "code",
        "colab": {}
      },
      "source": [
        "x_train, x_test, y_train, y_test = train_test_split(features, labels, random_state=0,test_size=0.1)"
      ],
      "execution_count": 0,
      "outputs": []
    },
    {
      "cell_type": "code",
      "metadata": {
        "id": "_uDbJ3ktYlkv",
        "colab_type": "code",
        "outputId": "a5771230-f48a-4d0d-ca57-22642653d274",
        "colab": {
          "base_uri": "https://localhost:8080/",
          "height": 34
        }
      },
      "source": [
        "x_train.shape"
      ],
      "execution_count": 13,
      "outputs": [
        {
          "output_type": "execute_result",
          "data": {
            "text/plain": [
              "(135000, 784)"
            ]
          },
          "metadata": {
            "tags": []
          },
          "execution_count": 13
        }
      ]
    },
    {
      "cell_type": "code",
      "metadata": {
        "id": "N2rbeT2yYxRi",
        "colab_type": "code",
        "outputId": "501a6044-871d-425f-ab79-4b52693dd55e",
        "colab": {
          "base_uri": "https://localhost:8080/",
          "height": 34
        }
      },
      "source": [
        "x_test.shape"
      ],
      "execution_count": 14,
      "outputs": [
        {
          "output_type": "execute_result",
          "data": {
            "text/plain": [
              "(15000, 784)"
            ]
          },
          "metadata": {
            "tags": []
          },
          "execution_count": 14
        }
      ]
    },
    {
      "cell_type": "code",
      "metadata": {
        "id": "V12y17aC7QdJ",
        "colab_type": "code",
        "colab": {}
      },
      "source": [
        "clf = LogisticRegression(solver = 'lbfgs' , multi_class= 'multinomial', max_iter=100)"
      ],
      "execution_count": 0,
      "outputs": []
    },
    {
      "cell_type": "code",
      "metadata": {
        "id": "IL84_HCm7YDH",
        "colab_type": "code",
        "outputId": "4ad177c6-9dd6-43cb-e6be-f0ec6ced60d1",
        "colab": {
          "base_uri": "https://localhost:8080/",
          "height": 292
        }
      },
      "source": [
        "clf.fit(x_train,y_train)"
      ],
      "execution_count": 16,
      "outputs": [
        {
          "output_type": "stream",
          "text": [
            "/usr/local/lib/python3.6/dist-packages/sklearn/utils/validation.py:760: DataConversionWarning: A column-vector y was passed when a 1d array was expected. Please change the shape of y to (n_samples, ), for example using ravel().\n",
            "  y = column_or_1d(y, warn=True)\n",
            "/usr/local/lib/python3.6/dist-packages/sklearn/linear_model/_logistic.py:940: ConvergenceWarning: lbfgs failed to converge (status=1):\n",
            "STOP: TOTAL NO. of ITERATIONS REACHED LIMIT.\n",
            "\n",
            "Increase the number of iterations (max_iter) or scale the data as shown in:\n",
            "    https://scikit-learn.org/stable/modules/preprocessing.html\n",
            "Please also refer to the documentation for alternative solver options:\n",
            "    https://scikit-learn.org/stable/modules/linear_model.html#logistic-regression\n",
            "  extra_warning_msg=_LOGISTIC_SOLVER_CONVERGENCE_MSG)\n"
          ],
          "name": "stderr"
        },
        {
          "output_type": "execute_result",
          "data": {
            "text/plain": [
              "LogisticRegression(C=1.0, class_weight=None, dual=False, fit_intercept=True,\n",
              "                   intercept_scaling=1, l1_ratio=None, max_iter=100,\n",
              "                   multi_class='multinomial', n_jobs=None, penalty='l2',\n",
              "                   random_state=None, solver='lbfgs', tol=0.0001, verbose=0,\n",
              "                   warm_start=False)"
            ]
          },
          "metadata": {
            "tags": []
          },
          "execution_count": 16
        }
      ]
    },
    {
      "cell_type": "code",
      "metadata": {
        "id": "vH3iDr3K7kHy",
        "colab_type": "code",
        "outputId": "f394be72-9f91-4ebc-b4c1-4034e714f02c",
        "colab": {
          "base_uri": "https://localhost:8080/",
          "height": 34
        }
      },
      "source": [
        "y_pred = clf.predict(x_test)\n",
        "print(accuracy_score(y_test,y_pred))"
      ],
      "execution_count": 17,
      "outputs": [
        {
          "output_type": "stream",
          "text": [
            "0.7562666666666666\n"
          ],
          "name": "stdout"
        }
      ]
    },
    {
      "cell_type": "code",
      "metadata": {
        "id": "mXXZs5qkVy6J",
        "colab_type": "code",
        "colab": {
          "base_uri": "https://localhost:8080/",
          "height": 34
        },
        "outputId": "f1687141-cfce-4373-85f1-77e6beb87b46"
      },
      "source": [
        "y_test.shape"
      ],
      "execution_count": 33,
      "outputs": [
        {
          "output_type": "execute_result",
          "data": {
            "text/plain": [
              "(15000, 1)"
            ]
          },
          "metadata": {
            "tags": []
          },
          "execution_count": 33
        }
      ]
    },
    {
      "cell_type": "code",
      "metadata": {
        "id": "nEYZyWfsUXjl",
        "colab_type": "code",
        "colab": {
          "base_uri": "https://localhost:8080/",
          "height": 34
        },
        "outputId": "e097c799-670f-4311-c230-911896871b08"
      },
      "source": [
        "y_pred.shape"
      ],
      "execution_count": 34,
      "outputs": [
        {
          "output_type": "execute_result",
          "data": {
            "text/plain": [
              "(15000,)"
            ]
          },
          "metadata": {
            "tags": []
          },
          "execution_count": 34
        }
      ]
    },
    {
      "cell_type": "markdown",
      "metadata": {
        "id": "u2rVk4cRiT7i",
        "colab_type": "text"
      },
      "source": [
        "## Create dataset to view Actual and Predicted values in a table"
      ]
    },
    {
      "cell_type": "code",
      "metadata": {
        "id": "TGfhpCAHUZ9I",
        "colab_type": "code",
        "colab": {}
      },
      "source": [
        "df=pd.DataFrame({'Actual': temp_test[0], 'Predicted': y_pred})"
      ],
      "execution_count": 0,
      "outputs": []
    },
    {
      "cell_type": "code",
      "metadata": {
        "id": "WeQ59R53U_92",
        "colab_type": "code",
        "colab": {
          "base_uri": "https://localhost:8080/",
          "height": 419
        },
        "outputId": "0cb83d29-8fcb-4ddd-b1d7-b9b7cf324366"
      },
      "source": [
        "df"
      ],
      "execution_count": 44,
      "outputs": [
        {
          "output_type": "execute_result",
          "data": {
            "text/html": [
              "<div>\n",
              "<style scoped>\n",
              "    .dataframe tbody tr th:only-of-type {\n",
              "        vertical-align: middle;\n",
              "    }\n",
              "\n",
              "    .dataframe tbody tr th {\n",
              "        vertical-align: top;\n",
              "    }\n",
              "\n",
              "    .dataframe thead th {\n",
              "        text-align: right;\n",
              "    }\n",
              "</style>\n",
              "<table border=\"1\" class=\"dataframe\">\n",
              "  <thead>\n",
              "    <tr style=\"text-align: right;\">\n",
              "      <th></th>\n",
              "      <th>Actual</th>\n",
              "      <th>Predicted</th>\n",
              "    </tr>\n",
              "  </thead>\n",
              "  <tbody>\n",
              "    <tr>\n",
              "      <th>0</th>\n",
              "      <td>1.0</td>\n",
              "      <td>1.0</td>\n",
              "    </tr>\n",
              "    <tr>\n",
              "      <th>1</th>\n",
              "      <td>14.0</td>\n",
              "      <td>14.0</td>\n",
              "    </tr>\n",
              "    <tr>\n",
              "      <th>2</th>\n",
              "      <td>7.0</td>\n",
              "      <td>7.0</td>\n",
              "    </tr>\n",
              "    <tr>\n",
              "      <th>3</th>\n",
              "      <td>0.0</td>\n",
              "      <td>0.0</td>\n",
              "    </tr>\n",
              "    <tr>\n",
              "      <th>4</th>\n",
              "      <td>8.0</td>\n",
              "      <td>8.0</td>\n",
              "    </tr>\n",
              "    <tr>\n",
              "      <th>...</th>\n",
              "      <td>...</td>\n",
              "      <td>...</td>\n",
              "    </tr>\n",
              "    <tr>\n",
              "      <th>14995</th>\n",
              "      <td>12.0</td>\n",
              "      <td>12.0</td>\n",
              "    </tr>\n",
              "    <tr>\n",
              "      <th>14996</th>\n",
              "      <td>5.0</td>\n",
              "      <td>5.0</td>\n",
              "    </tr>\n",
              "    <tr>\n",
              "      <th>14997</th>\n",
              "      <td>9.0</td>\n",
              "      <td>9.0</td>\n",
              "    </tr>\n",
              "    <tr>\n",
              "      <th>14998</th>\n",
              "      <td>6.0</td>\n",
              "      <td>6.0</td>\n",
              "    </tr>\n",
              "    <tr>\n",
              "      <th>14999</th>\n",
              "      <td>11.0</td>\n",
              "      <td>11.0</td>\n",
              "    </tr>\n",
              "  </tbody>\n",
              "</table>\n",
              "<p>15000 rows × 2 columns</p>\n",
              "</div>"
            ],
            "text/plain": [
              "       Actual  Predicted\n",
              "0         1.0        1.0\n",
              "1        14.0       14.0\n",
              "2         7.0        7.0\n",
              "3         0.0        0.0\n",
              "4         8.0        8.0\n",
              "...       ...        ...\n",
              "14995    12.0       12.0\n",
              "14996     5.0        5.0\n",
              "14997     9.0        9.0\n",
              "14998     6.0        6.0\n",
              "14999    11.0       11.0\n",
              "\n",
              "[15000 rows x 2 columns]"
            ]
          },
          "metadata": {
            "tags": []
          },
          "execution_count": 44
        }
      ]
    },
    {
      "cell_type": "markdown",
      "metadata": {
        "id": "A5fKKw6himpk",
        "colab_type": "text"
      },
      "source": [
        "## Create Confusion Matrix"
      ]
    },
    {
      "cell_type": "code",
      "metadata": {
        "id": "rYXFx-jLZ32w",
        "colab_type": "code",
        "colab": {}
      },
      "source": [
        "con = metrics.confusion_matrix(y_test,y_pred)"
      ],
      "execution_count": 0,
      "outputs": []
    },
    {
      "cell_type": "markdown",
      "metadata": {
        "id": "ShwTPPEZjHDU",
        "colab_type": "text"
      },
      "source": [
        "#### Converting Confusion Matrix to Pandas Dataframe\n",
        "#### This is done to add labels to rows and columns"
      ]
    },
    {
      "cell_type": "code",
      "metadata": {
        "id": "1IRFGJcBbFLR",
        "colab_type": "code",
        "colab": {}
      },
      "source": [
        "def cm2df(cm, labels):\n",
        "    df = pd.DataFrame()\n",
        "    # rows\n",
        "    for i, row_label in enumerate(labels):\n",
        "        rowdata={}\n",
        "        # columns\n",
        "        for j, col_label in enumerate(labels): \n",
        "            rowdata[col_label]=cm[i,j]\n",
        "        df = df.append(pd.DataFrame.from_dict({row_label:rowdata}, orient='index'))\n",
        "    return df[labels]"
      ],
      "execution_count": 0,
      "outputs": []
    },
    {
      "cell_type": "markdown",
      "metadata": {
        "id": "1k4j7yf9jqR0",
        "colab_type": "text"
      },
      "source": [
        "#### Extracting labels from the paths in dataset"
      ]
    },
    {
      "cell_type": "code",
      "metadata": {
        "id": "-qXx4X6-fell",
        "colab_type": "code",
        "colab": {}
      },
      "source": [
        "labels=[i.split('.')[0].split('_')[-1] for i in dataset] ## list comprehension"
      ],
      "execution_count": 0,
      "outputs": []
    },
    {
      "cell_type": "code",
      "metadata": {
        "id": "oKmysobVgSde",
        "colab_type": "code",
        "colab": {
          "base_uri": "https://localhost:8080/",
          "height": 272
        },
        "outputId": "47a0a927-cbed-43c4-b418-a85d65b4f82a"
      },
      "source": [
        "labels"
      ],
      "execution_count": 82,
      "outputs": [
        {
          "output_type": "execute_result",
          "data": {
            "text/plain": [
              "['apple',\n",
              " 'bowtie',\n",
              " 'candle',\n",
              " 'door',\n",
              " 'envelope',\n",
              " 'fish',\n",
              " 'guitar',\n",
              " 'ice cream',\n",
              " 'lightning',\n",
              " 'moon',\n",
              " 'mountain',\n",
              " 'star',\n",
              " 'tent',\n",
              " 'toothbrush',\n",
              " 'wristwatch']"
            ]
          },
          "metadata": {
            "tags": []
          },
          "execution_count": 82
        }
      ]
    },
    {
      "cell_type": "code",
      "metadata": {
        "id": "n44PgmWJgTiu",
        "colab_type": "code",
        "colab": {}
      },
      "source": [
        "df_con = cm2df(con, labels)"
      ],
      "execution_count": 0,
      "outputs": []
    },
    {
      "cell_type": "code",
      "metadata": {
        "id": "jTU66D4ogsRb",
        "colab_type": "code",
        "colab": {
          "base_uri": "https://localhost:8080/",
          "height": 551
        },
        "outputId": "34585d64-3827-4dfc-d6da-90a495623bc0"
      },
      "source": [
        "df_con"
      ],
      "execution_count": 84,
      "outputs": [
        {
          "output_type": "execute_result",
          "data": {
            "text/html": [
              "<div>\n",
              "<style scoped>\n",
              "    .dataframe tbody tr th:only-of-type {\n",
              "        vertical-align: middle;\n",
              "    }\n",
              "\n",
              "    .dataframe tbody tr th {\n",
              "        vertical-align: top;\n",
              "    }\n",
              "\n",
              "    .dataframe thead th {\n",
              "        text-align: right;\n",
              "    }\n",
              "</style>\n",
              "<table border=\"1\" class=\"dataframe\">\n",
              "  <thead>\n",
              "    <tr style=\"text-align: right;\">\n",
              "      <th></th>\n",
              "      <th>apple</th>\n",
              "      <th>bowtie</th>\n",
              "      <th>candle</th>\n",
              "      <th>door</th>\n",
              "      <th>envelope</th>\n",
              "      <th>fish</th>\n",
              "      <th>guitar</th>\n",
              "      <th>ice cream</th>\n",
              "      <th>lightning</th>\n",
              "      <th>moon</th>\n",
              "      <th>mountain</th>\n",
              "      <th>star</th>\n",
              "      <th>tent</th>\n",
              "      <th>toothbrush</th>\n",
              "      <th>wristwatch</th>\n",
              "    </tr>\n",
              "  </thead>\n",
              "  <tbody>\n",
              "    <tr>\n",
              "      <th>apple</th>\n",
              "      <td>888</td>\n",
              "      <td>2</td>\n",
              "      <td>13</td>\n",
              "      <td>6</td>\n",
              "      <td>4</td>\n",
              "      <td>10</td>\n",
              "      <td>16</td>\n",
              "      <td>1</td>\n",
              "      <td>3</td>\n",
              "      <td>31</td>\n",
              "      <td>6</td>\n",
              "      <td>8</td>\n",
              "      <td>10</td>\n",
              "      <td>9</td>\n",
              "      <td>20</td>\n",
              "    </tr>\n",
              "    <tr>\n",
              "      <th>bowtie</th>\n",
              "      <td>1</td>\n",
              "      <td>763</td>\n",
              "      <td>1</td>\n",
              "      <td>2</td>\n",
              "      <td>26</td>\n",
              "      <td>67</td>\n",
              "      <td>19</td>\n",
              "      <td>9</td>\n",
              "      <td>14</td>\n",
              "      <td>2</td>\n",
              "      <td>4</td>\n",
              "      <td>9</td>\n",
              "      <td>8</td>\n",
              "      <td>25</td>\n",
              "      <td>17</td>\n",
              "    </tr>\n",
              "    <tr>\n",
              "      <th>candle</th>\n",
              "      <td>18</td>\n",
              "      <td>0</td>\n",
              "      <td>845</td>\n",
              "      <td>1</td>\n",
              "      <td>1</td>\n",
              "      <td>2</td>\n",
              "      <td>19</td>\n",
              "      <td>10</td>\n",
              "      <td>26</td>\n",
              "      <td>17</td>\n",
              "      <td>6</td>\n",
              "      <td>5</td>\n",
              "      <td>5</td>\n",
              "      <td>6</td>\n",
              "      <td>12</td>\n",
              "    </tr>\n",
              "    <tr>\n",
              "      <th>door</th>\n",
              "      <td>2</td>\n",
              "      <td>2</td>\n",
              "      <td>7</td>\n",
              "      <td>866</td>\n",
              "      <td>4</td>\n",
              "      <td>5</td>\n",
              "      <td>4</td>\n",
              "      <td>12</td>\n",
              "      <td>6</td>\n",
              "      <td>18</td>\n",
              "      <td>3</td>\n",
              "      <td>4</td>\n",
              "      <td>8</td>\n",
              "      <td>12</td>\n",
              "      <td>8</td>\n",
              "    </tr>\n",
              "    <tr>\n",
              "      <th>envelope</th>\n",
              "      <td>2</td>\n",
              "      <td>28</td>\n",
              "      <td>0</td>\n",
              "      <td>12</td>\n",
              "      <td>868</td>\n",
              "      <td>38</td>\n",
              "      <td>7</td>\n",
              "      <td>2</td>\n",
              "      <td>2</td>\n",
              "      <td>3</td>\n",
              "      <td>3</td>\n",
              "      <td>11</td>\n",
              "      <td>7</td>\n",
              "      <td>1</td>\n",
              "      <td>16</td>\n",
              "    </tr>\n",
              "    <tr>\n",
              "      <th>fish</th>\n",
              "      <td>2</td>\n",
              "      <td>71</td>\n",
              "      <td>1</td>\n",
              "      <td>2</td>\n",
              "      <td>18</td>\n",
              "      <td>729</td>\n",
              "      <td>14</td>\n",
              "      <td>0</td>\n",
              "      <td>6</td>\n",
              "      <td>9</td>\n",
              "      <td>7</td>\n",
              "      <td>21</td>\n",
              "      <td>22</td>\n",
              "      <td>29</td>\n",
              "      <td>26</td>\n",
              "    </tr>\n",
              "    <tr>\n",
              "      <th>guitar</th>\n",
              "      <td>2</td>\n",
              "      <td>18</td>\n",
              "      <td>47</td>\n",
              "      <td>3</td>\n",
              "      <td>5</td>\n",
              "      <td>7</td>\n",
              "      <td>758</td>\n",
              "      <td>0</td>\n",
              "      <td>34</td>\n",
              "      <td>6</td>\n",
              "      <td>6</td>\n",
              "      <td>10</td>\n",
              "      <td>8</td>\n",
              "      <td>11</td>\n",
              "      <td>70</td>\n",
              "    </tr>\n",
              "    <tr>\n",
              "      <th>ice cream</th>\n",
              "      <td>4</td>\n",
              "      <td>0</td>\n",
              "      <td>14</td>\n",
              "      <td>9</td>\n",
              "      <td>2</td>\n",
              "      <td>4</td>\n",
              "      <td>5</td>\n",
              "      <td>822</td>\n",
              "      <td>54</td>\n",
              "      <td>5</td>\n",
              "      <td>0</td>\n",
              "      <td>10</td>\n",
              "      <td>1</td>\n",
              "      <td>17</td>\n",
              "      <td>9</td>\n",
              "    </tr>\n",
              "    <tr>\n",
              "      <th>lightning</th>\n",
              "      <td>2</td>\n",
              "      <td>5</td>\n",
              "      <td>47</td>\n",
              "      <td>28</td>\n",
              "      <td>5</td>\n",
              "      <td>9</td>\n",
              "      <td>18</td>\n",
              "      <td>87</td>\n",
              "      <td>608</td>\n",
              "      <td>24</td>\n",
              "      <td>28</td>\n",
              "      <td>49</td>\n",
              "      <td>24</td>\n",
              "      <td>64</td>\n",
              "      <td>19</td>\n",
              "    </tr>\n",
              "    <tr>\n",
              "      <th>moon</th>\n",
              "      <td>36</td>\n",
              "      <td>11</td>\n",
              "      <td>16</td>\n",
              "      <td>33</td>\n",
              "      <td>13</td>\n",
              "      <td>39</td>\n",
              "      <td>21</td>\n",
              "      <td>12</td>\n",
              "      <td>46</td>\n",
              "      <td>662</td>\n",
              "      <td>8</td>\n",
              "      <td>15</td>\n",
              "      <td>29</td>\n",
              "      <td>24</td>\n",
              "      <td>37</td>\n",
              "    </tr>\n",
              "    <tr>\n",
              "      <th>mountain</th>\n",
              "      <td>4</td>\n",
              "      <td>5</td>\n",
              "      <td>12</td>\n",
              "      <td>0</td>\n",
              "      <td>6</td>\n",
              "      <td>18</td>\n",
              "      <td>4</td>\n",
              "      <td>2</td>\n",
              "      <td>20</td>\n",
              "      <td>5</td>\n",
              "      <td>781</td>\n",
              "      <td>24</td>\n",
              "      <td>77</td>\n",
              "      <td>37</td>\n",
              "      <td>16</td>\n",
              "    </tr>\n",
              "    <tr>\n",
              "      <th>star</th>\n",
              "      <td>4</td>\n",
              "      <td>1</td>\n",
              "      <td>7</td>\n",
              "      <td>5</td>\n",
              "      <td>7</td>\n",
              "      <td>13</td>\n",
              "      <td>25</td>\n",
              "      <td>18</td>\n",
              "      <td>43</td>\n",
              "      <td>5</td>\n",
              "      <td>21</td>\n",
              "      <td>782</td>\n",
              "      <td>47</td>\n",
              "      <td>16</td>\n",
              "      <td>41</td>\n",
              "    </tr>\n",
              "    <tr>\n",
              "      <th>tent</th>\n",
              "      <td>3</td>\n",
              "      <td>7</td>\n",
              "      <td>18</td>\n",
              "      <td>11</td>\n",
              "      <td>5</td>\n",
              "      <td>24</td>\n",
              "      <td>9</td>\n",
              "      <td>2</td>\n",
              "      <td>9</td>\n",
              "      <td>17</td>\n",
              "      <td>142</td>\n",
              "      <td>33</td>\n",
              "      <td>734</td>\n",
              "      <td>19</td>\n",
              "      <td>15</td>\n",
              "    </tr>\n",
              "    <tr>\n",
              "      <th>toothbrush</th>\n",
              "      <td>1</td>\n",
              "      <td>9</td>\n",
              "      <td>20</td>\n",
              "      <td>11</td>\n",
              "      <td>7</td>\n",
              "      <td>38</td>\n",
              "      <td>6</td>\n",
              "      <td>16</td>\n",
              "      <td>47</td>\n",
              "      <td>2</td>\n",
              "      <td>24</td>\n",
              "      <td>6</td>\n",
              "      <td>10</td>\n",
              "      <td>755</td>\n",
              "      <td>47</td>\n",
              "    </tr>\n",
              "    <tr>\n",
              "      <th>wristwatch</th>\n",
              "      <td>39</td>\n",
              "      <td>24</td>\n",
              "      <td>22</td>\n",
              "      <td>6</td>\n",
              "      <td>17</td>\n",
              "      <td>31</td>\n",
              "      <td>89</td>\n",
              "      <td>27</td>\n",
              "      <td>92</td>\n",
              "      <td>81</td>\n",
              "      <td>37</td>\n",
              "      <td>44</td>\n",
              "      <td>14</td>\n",
              "      <td>56</td>\n",
              "      <td>483</td>\n",
              "    </tr>\n",
              "  </tbody>\n",
              "</table>\n",
              "</div>"
            ],
            "text/plain": [
              "            apple  bowtie  candle  door  ...  star  tent  toothbrush  wristwatch\n",
              "apple         888       2      13     6  ...     8    10           9          20\n",
              "bowtie          1     763       1     2  ...     9     8          25          17\n",
              "candle         18       0     845     1  ...     5     5           6          12\n",
              "door            2       2       7   866  ...     4     8          12           8\n",
              "envelope        2      28       0    12  ...    11     7           1          16\n",
              "fish            2      71       1     2  ...    21    22          29          26\n",
              "guitar          2      18      47     3  ...    10     8          11          70\n",
              "ice cream       4       0      14     9  ...    10     1          17           9\n",
              "lightning       2       5      47    28  ...    49    24          64          19\n",
              "moon           36      11      16    33  ...    15    29          24          37\n",
              "mountain        4       5      12     0  ...    24    77          37          16\n",
              "star            4       1       7     5  ...   782    47          16          41\n",
              "tent            3       7      18    11  ...    33   734          19          15\n",
              "toothbrush      1       9      20    11  ...     6    10         755          47\n",
              "wristwatch     39      24      22     6  ...    44    14          56         483\n",
              "\n",
              "[15 rows x 15 columns]"
            ]
          },
          "metadata": {
            "tags": []
          },
          "execution_count": 84
        }
      ]
    },
    {
      "cell_type": "code",
      "metadata": {
        "id": "mNXovlIpgtI0",
        "colab_type": "code",
        "colab": {
          "base_uri": "https://localhost:8080/",
          "height": 655
        },
        "outputId": "024a5171-d2c9-44be-a960-6e77176764a3"
      },
      "source": [
        "plt.figure(figsize=(15,10))\n",
        "cmap = sns.diverging_palette(220, 10, as_cmap=True)\n",
        "sns.heatmap(df_con, cmap=cmap, annot=True, fmt='d')\n",
        "plt.xlabel('Predicted',size =15)\n",
        "plt.ylabel('Actual', size =15)\n",
        "#plt.show()\n",
        "plt.savefig('Logistic_CM')"
      ],
      "execution_count": 88,
      "outputs": [
        {
          "output_type": "display_data",
          "data": {
            "image/png": "[encoded data removed]",
            "text/plain": [
              "<Figure size 1080x720 with 2 Axes>"
            ]
          },
          "metadata": {
            "tags": []
          }
        }
      ]
    },
    {
      "cell_type": "code",
      "metadata": {
        "id": "hDCHqC4dgx6w",
        "colab_type": "code",
        "colab": {}
      },
      "source": [
        ""
      ],
      "execution_count": 0,
      "outputs": []
    }
  ]
}